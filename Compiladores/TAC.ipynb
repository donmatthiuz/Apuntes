{
 "cells": [
  {
   "cell_type": "markdown",
   "id": "a5b59708",
   "metadata": {},
   "source": [
    "# [M2] TAC, Cuádruplos y Tripletas\n",
    "\n",
    "\n",
    "- Pedro Pablo Guzman Mayen - 22111\n",
    "- Mathew Alexander Cordero Aquino - 22982\n",
    "\n",
    "## Instrucciones\n",
    "Analiza el siguiente código en TypeScript:\n",
    "\n",
    "\n",
    "```\n",
    "function calculate(x: number, y: number, z: number): number {\n",
    "  return x * z + y * z - (z + y);\n",
    "}\n",
    "```\n",
    "\n",
    "## Representa este código utilizando:\n",
    "\n",
    "- Una versión en código de tres direcciones (TAC)\n",
    "- Una tabla de cuádruplos\n",
    "- Una tabla de tripletas\n",
    "\n",
    "Valida que el código original y su representación intermedia produzcan el mismo resultado con valores de prueba, por \n",
    "\n",
    "```\n",
    "ejemplo: x = 2, y = 3, z = 4\n",
    "```"
   ]
  }
 ],
 "metadata": {
  "language_info": {
   "name": "python"
  }
 },
 "nbformat": 4,
 "nbformat_minor": 5
}
